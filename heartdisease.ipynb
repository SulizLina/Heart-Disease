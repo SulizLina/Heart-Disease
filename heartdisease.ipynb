{
 "cells": [
  {
   "cell_type": "markdown",
   "id": "15ad48f1",
   "metadata": {},
   "source": [
    "### Our goal:\n",
    "The goal of collecting a dataset on heart diseases is to gather relevant information about the factors that influence the risk of gaining heart diseases. The results of analyzing this dataset will be utilized in various beneficial ways, research advancements, researchers work towards improving the understanding and management of heart disease, and increasing awareness among the public regarding the common factors that can contribute to heart diseases.\n"
   ]
  },
  {
   "cell_type": "markdown",
   "id": "32e396e8",
   "metadata": {},
   "source": [
    "### Source:\n",
    "kaggle website.\n"
   ]
  },
  {
   "cell_type": "markdown",
   "id": "a123d982",
   "metadata": {},
   "source": [
    "### URL:\n",
    "https://www.kaggle.com/datasets/johnsmith88/heart-disease-dataset\n"
   ]
  },
  {
   "cell_type": "markdown",
   "id": "ab2d232d",
   "metadata": {},
   "source": [
    "### Datasets attributes and type:\n",
    "|Attributes name|Description|Data type|Possible values|\n",
    "|---------------|-----------|---------|---------------|\n",
    "|Age|The person's age in years|Numeric|from 29 to 77|\n",
    "|sex|The person gender (Female,Male)|Binary| 1=male , 0=female|\n",
    "|cp|chest pain type|Ordinal|from 0 to 3 which 0=asymptomatic , 1= atypical angina , 2= non-anginal pain , 3= typical angina|\n",
    "|trestbps|resting blood pressure (in mm Hg on admission to the hospital)|Numeric|from 94 to 200|\n",
    "|chol|serum cholestoral in mg/dl| Numeric| from 126 to 564|\n",
    "|fbs|fasting blood sugar greater than 120 mg/dl)|Binary| 1=true , 0=false|\n",
    "|restecg|resting electrocardiographic results|Numeric|from 0 to 2 which 0=showing probable or definite left ventricular hypertrophy by Estes’ criteria , 1=normal , 2=having ST-T wave abnormality|\n",
    "|thalach|maximum heart rate achieved|Numeric| from 71 to 202|\n",
    "|exang|exercise induced angina|Binary|1=yes , 0=no|\n",
    "|oldpeak|ST depression induced by exercise relative to rest|Numeric|from 0 to 6.2|\n",
    "|slope|the slope of the peak exercise ST segment|Numeric| from 0 to 2 which 0=downsloping , 1=flat , 2=upsloping|\n",
    "|ca|The number of major vessels(0-3)colored by flourosopy| Numeric| from 0 to 4|\n",
    "|thal|A blood disorder called thalassemia Value| Numeric| from 0 to 2 which 0=normal , 1= fixed defect , 2=reversible defect|"
   ]
  },
  {
   "cell_type": "markdown",
   "id": "289caf16",
   "metadata": {},
   "source": [
    "\n",
    "Our dataset has 14 objects (attributes).\n"
   ]
  },
  {
   "cell_type": "markdown",
   "id": "4c23e4f1",
   "metadata": {},
   "source": [
    "### class label:\n",
    "is the target. It is binary type which has value 0= no disease , 1=disease."
   ]
  }
 ],
 "metadata": {
  "kernelspec": {
   "display_name": "R",
   "language": "R",
   "name": "ir"
  },
  "language_info": {
   "codemirror_mode": "r",
   "file_extension": ".r",
   "mimetype": "text/x-r-source",
   "name": "R",
   "pygments_lexer": "r",
   "version": "3.6.1"
  }
 },
 "nbformat": 4,
 "nbformat_minor": 5
}
